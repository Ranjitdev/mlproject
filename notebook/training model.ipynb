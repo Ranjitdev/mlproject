{
 "cells": [
  {
   "cell_type": "code",
   "execution_count": 1,
   "id": "fcdbc956",
   "metadata": {},
   "outputs": [],
   "source": [
    "import numpy as np\n",
    "import pandas as pd\n",
    "import math\n",
    "import matplotlib.pyplot as plt\n",
    "import seaborn as sns\n",
    "%matplotlib inline"
   ]
  },
  {
   "cell_type": "code",
   "execution_count": 2,
   "id": "4841cd7a",
   "metadata": {},
   "outputs": [],
   "source": [
    "from sklearn.metrics import mean_squared_error, r2_score, mean_absolute_error\n",
    "from sklearn.linear_model import LinearRegression, Ridge, Lasso\n",
    "from sklearn.neighbors import KNeighborsRegressor\n",
    "from sklearn.svm import SVR\n",
    "from sklearn.tree import DecisionTreeRegressor\n",
    "from sklearn.ensemble import AdaBoostRegressor, RandomForestRegressor, GradientBoostingRegressor\n",
    "from catboost import CatBoostRegressor\n",
    "from xgboost import XGBRegressor\n",
    "from sklearn.model_selection import GridSearchCV, RandomizedSearchCV, train_test_split"
   ]
  },
  {
   "cell_type": "code",
   "execution_count": 3,
   "id": "15ddedaf",
   "metadata": {},
   "outputs": [
    {
     "data": {
      "text/html": [
       "<div>\n",
       "<style scoped>\n",
       "    .dataframe tbody tr th:only-of-type {\n",
       "        vertical-align: middle;\n",
       "    }\n",
       "\n",
       "    .dataframe tbody tr th {\n",
       "        vertical-align: top;\n",
       "    }\n",
       "\n",
       "    .dataframe thead th {\n",
       "        text-align: right;\n",
       "    }\n",
       "</style>\n",
       "<table border=\"1\" class=\"dataframe\">\n",
       "  <thead>\n",
       "    <tr style=\"text-align: right;\">\n",
       "      <th></th>\n",
       "      <th>gender</th>\n",
       "      <th>race_ethnicity</th>\n",
       "      <th>parental_level_of_education</th>\n",
       "      <th>lunch</th>\n",
       "      <th>test_preparation_course</th>\n",
       "      <th>math_score</th>\n",
       "      <th>reading_score</th>\n",
       "      <th>writing_score</th>\n",
       "    </tr>\n",
       "  </thead>\n",
       "  <tbody>\n",
       "    <tr>\n",
       "      <th>0</th>\n",
       "      <td>female</td>\n",
       "      <td>group B</td>\n",
       "      <td>bachelor's degree</td>\n",
       "      <td>standard</td>\n",
       "      <td>none</td>\n",
       "      <td>72</td>\n",
       "      <td>72</td>\n",
       "      <td>74</td>\n",
       "    </tr>\n",
       "    <tr>\n",
       "      <th>1</th>\n",
       "      <td>female</td>\n",
       "      <td>group C</td>\n",
       "      <td>some college</td>\n",
       "      <td>standard</td>\n",
       "      <td>completed</td>\n",
       "      <td>69</td>\n",
       "      <td>90</td>\n",
       "      <td>88</td>\n",
       "    </tr>\n",
       "    <tr>\n",
       "      <th>2</th>\n",
       "      <td>female</td>\n",
       "      <td>group B</td>\n",
       "      <td>master's degree</td>\n",
       "      <td>standard</td>\n",
       "      <td>none</td>\n",
       "      <td>90</td>\n",
       "      <td>95</td>\n",
       "      <td>93</td>\n",
       "    </tr>\n",
       "    <tr>\n",
       "      <th>3</th>\n",
       "      <td>male</td>\n",
       "      <td>group A</td>\n",
       "      <td>associate's degree</td>\n",
       "      <td>free/reduced</td>\n",
       "      <td>none</td>\n",
       "      <td>47</td>\n",
       "      <td>57</td>\n",
       "      <td>44</td>\n",
       "    </tr>\n",
       "    <tr>\n",
       "      <th>4</th>\n",
       "      <td>male</td>\n",
       "      <td>group C</td>\n",
       "      <td>some college</td>\n",
       "      <td>standard</td>\n",
       "      <td>none</td>\n",
       "      <td>76</td>\n",
       "      <td>78</td>\n",
       "      <td>75</td>\n",
       "    </tr>\n",
       "  </tbody>\n",
       "</table>\n",
       "</div>"
      ],
      "text/plain": [
       "   gender race_ethnicity parental_level_of_education         lunch  \\\n",
       "0  female        group B           bachelor's degree      standard   \n",
       "1  female        group C                some college      standard   \n",
       "2  female        group B             master's degree      standard   \n",
       "3    male        group A          associate's degree  free/reduced   \n",
       "4    male        group C                some college      standard   \n",
       "\n",
       "  test_preparation_course  math_score  reading_score  writing_score  \n",
       "0                    none          72             72             74  \n",
       "1               completed          69             90             88  \n",
       "2                    none          90             95             93  \n",
       "3                    none          47             57             44  \n",
       "4                    none          76             78             75  "
      ]
     },
     "execution_count": 3,
     "metadata": {},
     "output_type": "execute_result"
    }
   ],
   "source": [
    "file = r'data\\stud.csv'\n",
    "df = pd.read_csv(file)\n",
    "df.head()"
   ]
  },
  {
   "cell_type": "code",
   "execution_count": 4,
   "id": "5a2e1c29",
   "metadata": {},
   "outputs": [],
   "source": [
    "#depandent and indepandent features\n",
    "x = df.drop('math_score', axis=1)\n",
    "y = df['math_score']"
   ]
  },
  {
   "cell_type": "code",
   "execution_count": 5,
   "id": "66381505",
   "metadata": {},
   "outputs": [],
   "source": [
    "#numerical and catagorical features\n",
    "num_features = x.select_dtypes(exclude='O').columns\n",
    "cat_features = x.select_dtypes(include='O').columns"
   ]
  },
  {
   "cell_type": "markdown",
   "id": "3f39a397",
   "metadata": {},
   "source": [
    "### Creating pipeline for encoding the data "
   ]
  },
  {
   "cell_type": "code",
   "execution_count": 6,
   "id": "5d944f80",
   "metadata": {},
   "outputs": [],
   "source": [
    "from sklearn.preprocessing import OneHotEncoder, StandardScaler\n",
    "from sklearn.compose import ColumnTransformer"
   ]
  },
  {
   "cell_type": "code",
   "execution_count": 7,
   "id": "8acb946a",
   "metadata": {},
   "outputs": [],
   "source": [
    "# One hot encoder for catagorical feeatures and standard scaler for numericals\n",
    "numeric_transformer = StandardScaler()\n",
    "oh_transformer = OneHotEncoder()"
   ]
  },
  {
   "cell_type": "code",
   "execution_count": 8,
   "id": "6576f461",
   "metadata": {},
   "outputs": [],
   "source": [
    "#encoding and making new columns\n",
    "preprocessor = ColumnTransformer(\n",
    "    [\n",
    "        (\"OneHotEncoder\", oh_transformer, cat_features),\n",
    "        (\"StandardScaler\", numeric_transformer, num_features)\n",
    "    ]\n",
    ")"
   ]
  },
  {
   "cell_type": "code",
   "execution_count": 9,
   "id": "61431a3c",
   "metadata": {},
   "outputs": [],
   "source": [
    "X = preprocessor.fit_transform(x)"
   ]
  },
  {
   "cell_type": "code",
   "execution_count": 10,
   "id": "ce35c0b1",
   "metadata": {},
   "outputs": [],
   "source": [
    "#splitting data for train and test\n",
    "X_train, X_test, y_train, y_test = train_test_split(X, y, test_size=0.2, random_state=41)"
   ]
  },
  {
   "cell_type": "markdown",
   "id": "2f8c08f5",
   "metadata": {},
   "source": [
    "### create an evaluation function for giving after training"
   ]
  },
  {
   "cell_type": "code",
   "execution_count": 11,
   "id": "efb36496",
   "metadata": {},
   "outputs": [],
   "source": [
    "def evaluate_model(true, predicted):\n",
    "    mae = mean_absolute_error(true, predicted)\n",
    "    mse = mean_squared_error(true, predicted)\n",
    "    rmse = np.sqrt(mean_squared_error(true, predicted))\n",
    "    r2 = r2_score(true, predicted)\n",
    "    return mae, rmse, r2"
   ]
  },
  {
   "cell_type": "code",
   "execution_count": 12,
   "id": "abcb1709",
   "metadata": {},
   "outputs": [],
   "source": [
    "models = {\n",
    "    'Linear Regression':LinearRegression(),\n",
    "    'Ridge':Ridge(),\n",
    "    'Lasso':Lasso(),\n",
    "    'K-Neighbors Regressor':KNeighborsRegressor(),\n",
    "    'Decision Tree':DecisionTreeRegressor(),\n",
    "    'Random Forest Regressor':RandomForestRegressor(),\n",
    "    'AdaBoost Regressor':AdaBoostRegressor(),\n",
    "    'XGBoost Regressor':XGBRegressor(),\n",
    "    'CatBoost Regressor':CatBoostRegressor(verbose=False),\n",
    "    'GradeintBoost Regressor': GradientBoostingRegressor(),\n",
    "    'SVR':SVR()\n",
    "}"
   ]
  },
  {
   "cell_type": "code",
   "execution_count": 13,
   "id": "2329cd9b",
   "metadata": {},
   "outputs": [],
   "source": [
    "model_list = []\n",
    "r2_list = []"
   ]
  },
  {
   "cell_type": "code",
   "execution_count": 14,
   "id": "ebb5890f",
   "metadata": {},
   "outputs": [
    {
     "name": "stdout",
     "output_type": "stream",
     "text": [
      "LinearRegression()\n",
      "Linear Regression\n",
      "model performance for training set:\n",
      "Root Mean Squared Error : 5.316140763312842\n",
      "Mean Absolute Error : 4.248271484375\n",
      "R2 Score : 0.8807466908297509\n",
      "--------------------\n",
      "model performance for testing set:\n",
      "Root Mean Squared Error : 5.38331340081429\n",
      "Mean Absolute Error : 4.2642578125\n",
      "R2 Score : 0.8553911432937578\n",
      "--------------------\n",
      "Ridge()\n",
      "Ridge\n",
      "model performance for training set:\n",
      "Root Mean Squared Error : 5.315378186851891\n",
      "Mean Absolute Error : 4.245522360745957\n",
      "R2 Score : 0.8807809010766432\n",
      "--------------------\n",
      "model performance for testing set:\n",
      "Root Mean Squared Error : 5.380121892683968\n",
      "Mean Absolute Error : 4.257329877732543\n",
      "R2 Score : 0.8555625557681626\n",
      "--------------------\n",
      "Lasso()\n",
      "Lasso\n",
      "model performance for training set:\n",
      "Root Mean Squared Error : 6.575231142704385\n",
      "Mean Absolute Error : 5.182587258102394\n",
      "R2 Score : 0.8175686196307939\n",
      "--------------------\n",
      "model performance for testing set:\n",
      "Root Mean Squared Error : 6.355413182740065\n",
      "Mean Absolute Error : 5.053879209353193\n",
      "R2 Score : 0.798449840729279\n",
      "--------------------\n",
      "KNeighborsRegressor()\n",
      "K-Neighbors Regressor\n",
      "model performance for training set:\n",
      "Root Mean Squared Error : 5.824963519199069\n",
      "Mean Absolute Error : 4.603\n",
      "R2 Score : 0.8568260802701374\n",
      "--------------------\n",
      "model performance for testing set:\n",
      "Root Mean Squared Error : 6.942189856234126\n",
      "Mean Absolute Error : 5.6979999999999995\n",
      "R2 Score : 0.7595146981259271\n",
      "--------------------\n",
      "DecisionTreeRegressor()\n",
      "Decision Tree\n",
      "model performance for training set:\n",
      "Root Mean Squared Error : 0.375\n",
      "Mean Absolute Error : 0.02625\n",
      "R2 Score : 0.9994066102627744\n",
      "--------------------\n",
      "model performance for testing set:\n",
      "Root Mean Squared Error : 8.674675786448736\n",
      "Mean Absolute Error : 6.86\n",
      "R2 Score : 0.6245068065314359\n",
      "--------------------\n",
      "RandomForestRegressor()\n",
      "Random Forest Regressor\n",
      "model performance for training set:\n",
      "Root Mean Squared Error : 2.3153174438381474\n",
      "Mean Absolute Error : 1.8138919642857143\n",
      "R2 Score : 0.977379688407262\n",
      "--------------------\n",
      "model performance for testing set:\n",
      "Root Mean Squared Error : 6.175531950579215\n",
      "Mean Absolute Error : 4.956095476190477\n",
      "R2 Score : 0.8096975801640557\n",
      "--------------------\n",
      "AdaBoostRegressor()\n",
      "AdaBoost Regressor\n",
      "model performance for training set:\n",
      "Root Mean Squared Error : 5.718920744662444\n",
      "Mean Absolute Error : 4.619741895449559\n",
      "R2 Score : 0.8619915585721825\n",
      "--------------------\n",
      "model performance for testing set:\n",
      "Root Mean Squared Error : 6.374960264614181\n",
      "Mean Absolute Error : 5.103489768962653\n",
      "R2 Score : 0.7972081351266037\n",
      "--------------------\n",
      "XGBRegressor(base_score=None, booster=None, callbacks=None,\n",
      "             colsample_bylevel=None, colsample_bynode=None,\n",
      "             colsample_bytree=None, early_stopping_rounds=None,\n",
      "             enable_categorical=False, eval_metric=None, feature_types=None,\n",
      "             gamma=None, gpu_id=None, grow_policy=None, importance_type=None,\n",
      "             interaction_constraints=None, learning_rate=None, max_bin=None,\n",
      "             max_cat_threshold=None, max_cat_to_onehot=None,\n",
      "             max_delta_step=None, max_depth=None, max_leaves=None,\n",
      "             min_child_weight=None, missing=nan, monotone_constraints=None,\n",
      "             n_estimators=100, n_jobs=None, num_parallel_tree=None,\n",
      "             predictor=None, random_state=None, ...)\n",
      "XGBoost Regressor\n",
      "model performance for training set:\n",
      "Root Mean Squared Error : 0.9288845911682788\n",
      "Mean Absolute Error : 0.6047726381383837\n",
      "R2 Score : 0.9963591648726837\n",
      "--------------------\n",
      "model performance for testing set:\n",
      "Root Mean Squared Error : 6.322799461778424\n",
      "Mean Absolute Error : 5.142815532684327\n",
      "R2 Score : 0.8005131006762594\n",
      "--------------------\n",
      "<catboost.core.CatBoostRegressor object at 0x000001F66EEEAEB0>\n",
      "CatBoost Regressor\n",
      "model performance for training set:\n",
      "Root Mean Squared Error : 2.9654110528723128\n",
      "Mean Absolute Error : 2.2977147464183343\n",
      "R2 Score : 0.9628937300891073\n",
      "--------------------\n",
      "model performance for testing set:\n",
      "Root Mean Squared Error : 5.865992747889619\n",
      "Mean Absolute Error : 4.679196558234236\n",
      "R2 Score : 0.828296713382709\n",
      "--------------------\n",
      "GradientBoostingRegressor()\n",
      "GradeintBoost Regressor\n",
      "model performance for training set:\n",
      "Root Mean Squared Error : 4.589540174435166\n",
      "Mean Absolute Error : 3.609502525115164\n",
      "R2 Score : 0.9111175848367639\n",
      "--------------------\n",
      "model performance for testing set:\n",
      "Root Mean Squared Error : 5.742088105271699\n",
      "Mean Absolute Error : 4.621182996221959\n",
      "R2 Score : 0.8354737236664367\n",
      "--------------------\n",
      "SVR()\n",
      "SVR\n",
      "model performance for training set:\n",
      "Root Mean Squared Error : 6.935223399116547\n",
      "Mean Absolute Error : 4.948961777385929\n",
      "R2 Score : 0.7970456305089465\n",
      "--------------------\n",
      "model performance for testing set:\n",
      "Root Mean Squared Error : 6.4097915273673\n",
      "Mean Absolute Error : 4.990515213160134\n",
      "R2 Score : 0.7949860684574758\n",
      "--------------------\n"
     ]
    }
   ],
   "source": [
    "for i in models.keys():\n",
    "    model = models[i]\n",
    "    print(model)\n",
    "    model.fit(X_train, y_train)\n",
    "    \n",
    "    #make prediction\n",
    "    y_train_pred = model.predict(X_train)\n",
    "    y_test_pred = model.predict(X_test)\n",
    "    \n",
    "    #evaluate train and test data\n",
    "    model_train_mae, model_train_rmse, model_train_r2 = evaluate_model(y_train, y_train_pred)\n",
    "    model_test_mae, model_test_rmse, model_test_r2 = evaluate_model(y_test, y_test_pred)\n",
    "    \n",
    "    print(i)\n",
    "    model_list.append(i)\n",
    "    r2_list.append(model_test_r2)\n",
    "    \n",
    "    print('model performance for training set:')\n",
    "    print(f'Root Mean Squared Error : {model_train_rmse}')\n",
    "    print(f'Mean Absolute Error : {model_train_mae}')\n",
    "    print(f'R2 Score : {model_train_r2}')\n",
    "    print('-'*20)\n",
    "    print('model performance for testing set:')\n",
    "    print(f'Root Mean Squared Error : {model_test_rmse}')\n",
    "    print(f'Mean Absolute Error : {model_test_mae}')\n",
    "    print(f'R2 Score : {model_test_r2}')\n",
    "    print('-'*20)"
   ]
  },
  {
   "cell_type": "markdown",
   "id": "27261f3e",
   "metadata": {},
   "source": [
    "### best r2 score"
   ]
  },
  {
   "cell_type": "code",
   "execution_count": 15,
   "id": "0ab83c46",
   "metadata": {},
   "outputs": [
    {
     "data": {
      "text/html": [
       "<div>\n",
       "<style scoped>\n",
       "    .dataframe tbody tr th:only-of-type {\n",
       "        vertical-align: middle;\n",
       "    }\n",
       "\n",
       "    .dataframe tbody tr th {\n",
       "        vertical-align: top;\n",
       "    }\n",
       "\n",
       "    .dataframe thead th {\n",
       "        text-align: right;\n",
       "    }\n",
       "</style>\n",
       "<table border=\"1\" class=\"dataframe\">\n",
       "  <thead>\n",
       "    <tr style=\"text-align: right;\">\n",
       "      <th></th>\n",
       "      <th>Model Name</th>\n",
       "      <th>R2 Score</th>\n",
       "    </tr>\n",
       "  </thead>\n",
       "  <tbody>\n",
       "    <tr>\n",
       "      <th>1</th>\n",
       "      <td>Ridge</td>\n",
       "      <td>0.855563</td>\n",
       "    </tr>\n",
       "    <tr>\n",
       "      <th>0</th>\n",
       "      <td>Linear Regression</td>\n",
       "      <td>0.855391</td>\n",
       "    </tr>\n",
       "    <tr>\n",
       "      <th>9</th>\n",
       "      <td>GradeintBoost Regressor</td>\n",
       "      <td>0.835474</td>\n",
       "    </tr>\n",
       "    <tr>\n",
       "      <th>8</th>\n",
       "      <td>CatBoost Regressor</td>\n",
       "      <td>0.828297</td>\n",
       "    </tr>\n",
       "    <tr>\n",
       "      <th>5</th>\n",
       "      <td>Random Forest Regressor</td>\n",
       "      <td>0.809698</td>\n",
       "    </tr>\n",
       "    <tr>\n",
       "      <th>7</th>\n",
       "      <td>XGBoost Regressor</td>\n",
       "      <td>0.800513</td>\n",
       "    </tr>\n",
       "    <tr>\n",
       "      <th>2</th>\n",
       "      <td>Lasso</td>\n",
       "      <td>0.798450</td>\n",
       "    </tr>\n",
       "    <tr>\n",
       "      <th>6</th>\n",
       "      <td>AdaBoost Regressor</td>\n",
       "      <td>0.797208</td>\n",
       "    </tr>\n",
       "    <tr>\n",
       "      <th>10</th>\n",
       "      <td>SVR</td>\n",
       "      <td>0.794986</td>\n",
       "    </tr>\n",
       "    <tr>\n",
       "      <th>3</th>\n",
       "      <td>K-Neighbors Regressor</td>\n",
       "      <td>0.759515</td>\n",
       "    </tr>\n",
       "    <tr>\n",
       "      <th>4</th>\n",
       "      <td>Decision Tree</td>\n",
       "      <td>0.624507</td>\n",
       "    </tr>\n",
       "  </tbody>\n",
       "</table>\n",
       "</div>"
      ],
      "text/plain": [
       "                 Model Name  R2 Score\n",
       "1                     Ridge  0.855563\n",
       "0         Linear Regression  0.855391\n",
       "9   GradeintBoost Regressor  0.835474\n",
       "8        CatBoost Regressor  0.828297\n",
       "5   Random Forest Regressor  0.809698\n",
       "7         XGBoost Regressor  0.800513\n",
       "2                     Lasso  0.798450\n",
       "6        AdaBoost Regressor  0.797208\n",
       "10                      SVR  0.794986\n",
       "3     K-Neighbors Regressor  0.759515\n",
       "4             Decision Tree  0.624507"
      ]
     },
     "execution_count": 15,
     "metadata": {},
     "output_type": "execute_result"
    }
   ],
   "source": [
    "pd.DataFrame(list(zip(model_list, r2_list)), columns=['Model Name', 'R2 Score']).sort_values(by=['R2 Score'], ascending=False)"
   ]
  },
  {
   "cell_type": "markdown",
   "id": "6c71ecdc",
   "metadata": {},
   "source": [
    "### So We are going to take Linear regression as our model"
   ]
  },
  {
   "cell_type": "code",
   "execution_count": 16,
   "id": "ff98b697",
   "metadata": {},
   "outputs": [
    {
     "name": "stdout",
     "output_type": "stream",
     "text": [
      "Accuracy of the model 85.25\n"
     ]
    }
   ],
   "source": [
    "regressor = LinearRegression(fit_intercept=True)\n",
    "lin_model = regressor.fit(X_train, y_train)\n",
    "y_pred = lin_model.predict(X_test)\n",
    "score = r2_score(y_pred, y_test)*100\n",
    "print('Accuracy of the model %.2f'%score)"
   ]
  },
  {
   "cell_type": "code",
   "execution_count": 17,
   "id": "b7cbe952",
   "metadata": {},
   "outputs": [
    {
     "data": {
      "text/plain": [
       "<AxesSubplot:xlabel='math_score'>"
      ]
     },
     "execution_count": 17,
     "metadata": {},
     "output_type": "execute_result"
    },
    {
     "data": {
      "image/png": "[encoded data removed]",
      "text/plain": [
       "<Figure size 640x480 with 1 Axes>"
      ]
     },
     "metadata": {},
     "output_type": "display_data"
    }
   ],
   "source": [
    "sns.regplot(x=y_test, y=y_pred, color='g')"
   ]
  },
  {
   "cell_type": "code",
   "execution_count": 21,
   "id": "19fc163d",
   "metadata": {},
   "outputs": [
    {
     "name": "stdout",
     "output_type": "stream",
     "text": [
      "Linear Regression 0.8553911432937578\n",
      "Ridge 0.8555625557681626\n",
      "Lasso 0.798449840729279\n",
      "K-Neighbors Regressor 0.7595146981259271\n",
      "Decision Tree 0.6143522729937809\n",
      "Random Forest Regressor 0.8126060526375869\n",
      "AdaBoost Regressor 0.7942103337085842\n",
      "XGBoost Regressor 0.8005131006762594\n",
      "CatBoost Regressor 0.828296713382709\n",
      "GradeintBoost Regressor 0.835569794140744\n",
      "SVR 0.7949860684574758\n"
     ]
    }
   ],
   "source": [
    "score = {}\n",
    "for model in models.keys():\n",
    "    models[model].fit(X_train, y_train)\n",
    "    \n",
    "    #make prediction\n",
    "    y_train_pred = models[model].predict(X_train)\n",
    "    y_test_pred = models[model].predict(X_test)\n",
    "    \n",
    "    #evaluate train and test data\n",
    "    model_train_r2 = r2_score(y_train, y_train_pred)\n",
    "    model_test_r2 = r2_score(y_test, y_test_pred)\n",
    "    \n",
    "    print(model, model_test_r2)\n",
    "    score[model] = model_test_r2"
   ]
  },
  {
   "cell_type": "code",
   "execution_count": 40,
   "id": "3b5cd6b5",
   "metadata": {},
   "outputs": [
    {
     "data": {
      "text/plain": [
       "0.8555625557681626"
      ]
     },
     "execution_count": 40,
     "metadata": {},
     "output_type": "execute_result"
    }
   ],
   "source": [
    "max_score = max(score.values())\n",
    "max_score"
   ]
  },
  {
   "cell_type": "code",
   "execution_count": 43,
   "id": "24a4ba4d",
   "metadata": {},
   "outputs": [
    {
     "data": {
      "text/plain": [
       "['Ridge']"
      ]
     },
     "execution_count": 43,
     "metadata": {},
     "output_type": "execute_result"
    }
   ],
   "source": [
    "best_model = [model for model in list(score.keys()) if score[model]==max_score]\n",
    "best_model"
   ]
  },
  {
   "cell_type": "code",
   "execution_count": null,
   "id": "e9c85596",
   "metadata": {},
   "outputs": [],
   "source": []
  },
  {
   "cell_type": "code",
   "execution_count": null,
   "id": "f0023d4d",
   "metadata": {},
   "outputs": [],
   "source": []
  }
 ],
 "metadata": {
  "kernelspec": {
   "display_name": "Python 3 (ipykernel)",
   "language": "python",
   "name": "python3"
  },
  "language_info": {
   "codemirror_mode": {
    "name": "ipython",
    "version": 3
   },
   "file_extension": ".py",
   "mimetype": "text/x-python",
   "name": "python",
   "nbconvert_exporter": "python",
   "pygments_lexer": "ipython3",
   "version": "3.9.13"
  }
 },
 "nbformat": 4,
 "nbformat_minor": 5
}
